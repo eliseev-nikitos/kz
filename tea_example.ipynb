{
 "cells": [
  {
   "cell_type": "code",
   "execution_count": 1,
   "id": "b1aefc27-90f2-4a58-b36a-e5817daec2ee",
   "metadata": {},
   "outputs": [
    {
     "data": {
      "text/html": [
       "<pre style=\"white-space:pre;overflow-x:auto;line-height:normal;font-family:Menlo,'DejaVu Sans Mono',consolas,'Courier New',monospace\">\n",
       "</pre>\n"
      ],
      "text/plain": [
       "\n"
      ]
     },
     "metadata": {},
     "output_type": "display_data"
    },
    {
     "name": "stdout",
     "output_type": "stream",
     "text": [
      "[['Darcy only, entered the room.', 'in the room.', 'She entered the room with an air more than usually ungracious, made no', 'which Elizabeth received from Jane as soon as she entered the room, and', 'husband, called out, as she entered the library,--'], [{'value': 0.5714285714285714}, {'value': 0.6666666666666666}, {'value': 0.6923076923076923}, {'value': 0.6923076923076923}, {'value': 0.7}]]\n"
     ]
    }
   ],
   "source": [
    "# Example 1\n",
    "# requirements\n",
    "# pip install -U docarray==0.21.0\n",
    "# link: https://medium.com/jina-ai/build-neural-text-search-engine-in-10-minutes-12d27c51dde1\n",
    "\n",
    "########################################################################################\n",
    "# Preload\n",
    "from docarray import Document, DocumentArray\n",
    "doc = Document(uri=\"https://www.gutenberg.org/files/1342/1342-0.txt\").load_uri_to_text()\n",
    "#                   ^^^^^^^^^^^^^^^^^^^^^^^^^^^^^^^^^^^^^^^^^^^^^^^ - нужный документ\n",
    "# doc = Document(uri=\"./untitled.txt\").load_uri_to_text()\n",
    "\n",
    "# break large text into smaller chunks\n",
    "docs = DocumentArray(Document(text = s.strip()) for s in doc.text.split('\\n') if s.strip())\n",
    "\n",
    "# apply feature hashing to embed the DocumentArray\n",
    "docs.apply(lambda doc: doc.embed_feature_hashing())\n",
    "\n",
    "########################################################################################\n",
    "# Search\n",
    "def search(text:str, limit:int=5) -> list:\n",
    "    query = Document(text=text).embed_feature_hashing().match(\n",
    "        docs, limit=limit, exclude_self=True, metric=\"jaccard\", use_scipy=True,\n",
    "    )\n",
    "    return query.matches[:, ('text', 'scores__jaccard')]\n",
    "\n",
    "print(search(\"she entered the room\"))"
   ]
  },
  {
   "cell_type": "code",
   "execution_count": null,
   "id": "869012b1-0eda-4cc0-bf62-784889d89ccc",
   "metadata": {},
   "outputs": [],
   "source": []
  },
  {
   "cell_type": "code",
   "execution_count": null,
   "id": "f3fd7a8b-8a2d-439b-8fae-c2603be769af",
   "metadata": {},
   "outputs": [],
   "source": []
  },
  {
   "cell_type": "code",
   "execution_count": null,
   "id": "92bc3e01-ecdf-4ff1-aa72-eec52b3a2cfd",
   "metadata": {},
   "outputs": [],
   "source": []
  },
  {
   "cell_type": "code",
   "execution_count": 2,
   "id": "7b2ca56c-1842-4f2d-9ad3-7ba6d176d70e",
   "metadata": {},
   "outputs": [],
   "source": [
    "# Example 1\n",
    "# requirements\n",
    "# pip install torch\n",
    "# pip install transformers\n",
    "# pip install torch torchvision torchaudio --index-url https://download.pytorch.org/whl/cpu"
   ]
  },
  {
   "cell_type": "code",
   "execution_count": 3,
   "id": "ea488353-2e3f-4d93-a618-d40e889556c4",
   "metadata": {},
   "outputs": [
    {
     "name": "stderr",
     "output_type": "stream",
     "text": [
      "Some weights of the model checkpoint at DeepPavlov/rubert-base-cased were not used when initializing BertModel: ['cls.predictions.bias', 'cls.predictions.decoder.bias', 'cls.predictions.decoder.weight', 'cls.predictions.transform.LayerNorm.bias', 'cls.predictions.transform.LayerNorm.weight', 'cls.predictions.transform.dense.bias', 'cls.predictions.transform.dense.weight', 'cls.seq_relationship.bias', 'cls.seq_relationship.weight']\n",
      "- This IS expected if you are initializing BertModel from the checkpoint of a model trained on another task or with another architecture (e.g. initializing a BertForSequenceClassification model from a BertForPreTraining model).\n",
      "- This IS NOT expected if you are initializing BertModel from the checkpoint of a model that you expect to be exactly identical (initializing a BertForSequenceClassification model from a BertForSequenceClassification model).\n"
     ]
    },
    {
     "name": "stdout",
     "output_type": "stream",
     "text": [
      "[('чай травяной lipton гибискус шиповник\\n', 0.7438883849640057), ('чай зелёный lipton шиповник имбирь женьшень\\n', 0.7274236412416102), ('чай травяной greenfield земляника клюква\\n', 0.7208609844883598), ('чай чёрный lipton липа мята\\n', 0.7023058380911271), ('чай травяной lipton куркума имбирь\\n', 0.7002760516544559)]\n"
     ]
    }
   ],
   "source": [
    "import torch\n",
    "from scipy.spatial import distance\n",
    "from transformers import BertTokenizer, BertModel\n",
    "\n",
    "\n",
    "########################################################################################\n",
    "# Preload\n",
    "# Загрузка токенизатора и модели RuBERT\n",
    "tokenizer = BertTokenizer.from_pretrained(\"DeepPavlov/rubert-base-cased\")\n",
    "model = BertModel.from_pretrained(\"DeepPavlov/rubert-base-cased\")\n",
    "\n",
    "def calc_emb(text:str):\n",
    "    # Токенизация текста\n",
    "    inputs = tokenizer(text, return_tensors=\"pt\")\n",
    "    \n",
    "    # Передача токенизированных входных данных модели RuBERT для получения эмбеддингов\n",
    "    with torch.no_grad():\n",
    "        outputs = model(**inputs)\n",
    "    \n",
    "    # Получение эмбеддингов для текста (выходы из слоя [CLS] в BERT)\n",
    "    embeddings = outputs.last_hidden_state.mean(dim=1).squeeze()\n",
    "    # print(embeddings.shape)\n",
    "    return embeddings\n",
    "\n",
    "\n",
    "db = {}\n",
    "with open(\"./чай список.txt\") as file:\n",
    "    while line := file.readline():\n",
    "        # print(line.rstrip())\n",
    "        db[line] = calc_emb(line.rstrip())\n",
    "\n",
    "\n",
    "# print(db)\n",
    "\n",
    "########################################################################################\n",
    "# Search\n",
    "def search_bert(text:str, limit:int=5) -> list:\n",
    "    result_dict = {}\n",
    "    emb = calc_emb(text)\n",
    "    for line in db:\n",
    "        result_dict[line] = distance.cosine(calc_emb(line), emb)\n",
    "    sorted_result_dict = sorted(result_dict.items(), key=lambda x:x[1], reverse=True)\n",
    "    return sorted_result_dict[:limit]\n",
    "\n",
    "\n",
    "print(search_bert(\"чай чёреный\"))\n"
   ]
  },
  {
   "cell_type": "code",
   "execution_count": 4,
   "id": "555443a2-3d5c-483e-8150-82326396d5be",
   "metadata": {},
   "outputs": [
    {
     "name": "stdout",
     "output_type": "stream",
     "text": [
      "[('чай чёрный ahmad tea ассам\\n', 0.5521512566293039), ('чай чёрный ahmad tea ягоды\\n', 0.5480951210724654), ('чай зелёный mabroc цейлонский\\n', 0.5411294881052207), ('чай зелёный ahmad tea\\n', 0.5408244828390791), ('чай чёрный ahmad tea\\n', 0.5391722501070467)]\n"
     ]
    }
   ],
   "source": [
    "print(search_bert(\"чай чёреный пряный май\"))"
   ]
  },
  {
   "cell_type": "code",
   "execution_count": 5,
   "id": "df5b5ebf-7f5f-4faf-9030-cfaf11c6dcdf",
   "metadata": {},
   "outputs": [
    {
     "name": "stdout",
     "output_type": "stream",
     "text": [
      "[('чай чёрный lipton витамин c шиповник малина\\n', 0.7166118357025655), ('чай зелёный lipton шиповник имбирь женьшень\\n', 0.7034294149667552), ('чай травяной lipton гибискус шиповник\\n', 0.6979015966827189), ('чай травяной greenfield земляника клюква\\n', 0.6911029147631592), ('чай чёрный ahmad tea гибискус персик малина\\n', 0.6755447546724337)]\n"
     ]
    }
   ],
   "source": [
    "print(search_bert(\"чай чёреный майский\"))"
   ]
  },
  {
   "cell_type": "code",
   "execution_count": null,
   "id": "1fb87bcb-243a-486d-bf43-42ac6dc5883b",
   "metadata": {},
   "outputs": [],
   "source": []
  },
  {
   "cell_type": "code",
   "execution_count": 6,
   "id": "4a777844-ae01-47cf-bd77-e99add9f1ed5",
   "metadata": {},
   "outputs": [
    {
     "name": "stdout",
     "output_type": "stream",
     "text": [
      "[('чай травяной lipton гибискус шиповник\\n', 0.6832863282156284), ('чай зелёный lipton шиповник имбирь женьшень\\n', 0.6804893339603759), ('чай чёрный lipton витамин c шиповник малина\\n', 0.6639946085073771), ('чай травяной milford эхинацея имбирь\\n', 0.6614269657264884), ('чай травяной lipton облепиха\\n', 0.6531111660180768)]\n",
      "[('чай травяной lipton гибискус шиповник\\n', 0.6832863282156284), ('чай зелёный lipton шиповник имбирь женьшень\\n', 0.6804893339603759), ('чай чёрный lipton витамин c шиповник малина\\n', 0.6639946085073771), ('чай травяной milford эхинацея имбирь\\n', 0.6614269657264884), ('чай травяной lipton облепиха\\n', 0.6531111660180768)]\n",
      "[('чай травяной lipton гибискус шиповник\\n', 0.6832863282156284), ('чай зелёный lipton шиповник имбирь женьшень\\n', 0.6804893339603759), ('чай чёрный lipton витамин c шиповник малина\\n', 0.6639946085073771), ('чай травяной milford эхинацея имбирь\\n', 0.6614269657264884), ('чай травяной lipton облепиха\\n', 0.6531111660180768)]\n",
      "[('чай травяной lipton гибискус шиповник\\n', 0.6832863282156284), ('чай зелёный lipton шиповник имбирь женьшень\\n', 0.6804893339603759), ('чай чёрный lipton витамин c шиповник малина\\n', 0.6639946085073771), ('чай травяной milford эхинацея имбирь\\n', 0.6614269657264884), ('чай травяной lipton облепиха\\n', 0.6531111660180768)]\n",
      "[('чай травяной lipton гибискус шиповник\\n', 0.6832863282156284), ('чай зелёный lipton шиповник имбирь женьшень\\n', 0.6804893339603759), ('чай чёрный lipton витамин c шиповник малина\\n', 0.6639946085073771), ('чай травяной milford эхинацея имбирь\\n', 0.6614269657264884), ('чай травяной lipton облепиха\\n', 0.6531111660180768)]\n",
      "[('чай травяной lipton гибискус шиповник\\n', 0.6832863282156284), ('чай зелёный lipton шиповник имбирь женьшень\\n', 0.6804893339603759), ('чай чёрный lipton витамин c шиповник малина\\n', 0.6639946085073771), ('чай травяной milford эхинацея имбирь\\n', 0.6614269657264884), ('чай травяной lipton облепиха\\n', 0.6531111660180768)]\n",
      "[('чай травяной lipton гибискус шиповник\\n', 0.6832863282156284), ('чай зелёный lipton шиповник имбирь женьшень\\n', 0.6804893339603759), ('чай чёрный lipton витамин c шиповник малина\\n', 0.6639946085073771), ('чай травяной milford эхинацея имбирь\\n', 0.6614269657264884), ('чай травяной lipton облепиха\\n', 0.6531111660180768)]\n",
      "[('чай травяной lipton гибискус шиповник\\n', 0.6832863282156284), ('чай зелёный lipton шиповник имбирь женьшень\\n', 0.6804893339603759), ('чай чёрный lipton витамин c шиповник малина\\n', 0.6639946085073771), ('чай травяной milford эхинацея имбирь\\n', 0.6614269657264884), ('чай травяной lipton облепиха\\n', 0.6531111660180768)]\n",
      "17.4 s ± 54.4 ms per loop (mean ± std. dev. of 7 runs, 1 loop each)\n"
     ]
    }
   ],
   "source": [
    "%%timeit\n",
    "print(search_bert(\"чай белый\"))"
   ]
  },
  {
   "cell_type": "code",
   "execution_count": null,
   "id": "0541a28d-1917-4af2-8e74-75ce8b8f272b",
   "metadata": {},
   "outputs": [],
   "source": []
  },
  {
   "cell_type": "code",
   "execution_count": null,
   "id": "e20eeb70-1f8d-477b-b1b4-3986a598be87",
   "metadata": {},
   "outputs": [],
   "source": []
  },
  {
   "cell_type": "code",
   "execution_count": null,
   "id": "b21ddfba-d26b-446c-b798-cf6a9a0da114",
   "metadata": {},
   "outputs": [],
   "source": []
  },
  {
   "cell_type": "code",
   "execution_count": 7,
   "id": "b4df3f7b-aeb9-497c-bbe0-ff50b172424a",
   "metadata": {},
   "outputs": [
    {
     "data": {
      "application/vnd.jupyter.widget-view+json": {
       "model_id": "2e47ae7c066b4391a251f49b850d2cd2",
       "version_major": 2,
       "version_minor": 0
      },
      "text/plain": [
       "tokenizer_config.json:   0%|          | 0.00/49.0 [00:00<?, ?B/s]"
      ]
     },
     "metadata": {},
     "output_type": "display_data"
    },
    {
     "data": {
      "application/vnd.jupyter.widget-view+json": {
       "model_id": "37f74b6da6ce4ec98927e2a4e0ad06ba",
       "version_major": 2,
       "version_minor": 0
      },
      "text/plain": [
       "vocab.txt:   0%|          | 0.00/996k [00:00<?, ?B/s]"
      ]
     },
     "metadata": {},
     "output_type": "display_data"
    },
    {
     "data": {
      "application/vnd.jupyter.widget-view+json": {
       "model_id": "74597c7e85fb4e3da966f11226723f6a",
       "version_major": 2,
       "version_minor": 0
      },
      "text/plain": [
       "tokenizer.json:   0%|          | 0.00/1.96M [00:00<?, ?B/s]"
      ]
     },
     "metadata": {},
     "output_type": "display_data"
    },
    {
     "data": {
      "application/vnd.jupyter.widget-view+json": {
       "model_id": "d91cec7f02004303bc90fc318cf96043",
       "version_major": 2,
       "version_minor": 0
      },
      "text/plain": [
       "config.json:   0%|          | 0.00/625 [00:00<?, ?B/s]"
      ]
     },
     "metadata": {},
     "output_type": "display_data"
    },
    {
     "data": {
      "application/vnd.jupyter.widget-view+json": {
       "model_id": "38263ac691ef4dc28a975a6593a5e673",
       "version_major": 2,
       "version_minor": 0
      },
      "text/plain": [
       "model.safetensors:   0%|          | 0.00/714M [00:00<?, ?B/s]"
      ]
     },
     "metadata": {},
     "output_type": "display_data"
    },
    {
     "name": "stdout",
     "output_type": "stream",
     "text": [
      "[('чай травяной ahmad tea грейпфрут гуарана\\n', 0.46453326408237705), ('чай фруктовый milford клубника малина\\n', 0.43117749814656414), ('чай травяной ahmad tea ромашка мёд лаванда\\n', 0.428529712240173), ('чай зелёный tess имбирь фрукт дракона\\n', 0.4157801148016389), ('чай зелёный ahmad tea без кофеина\\n', 0.4134165701588288)]\n"
     ]
    }
   ],
   "source": [
    "########################################################################################\n",
    "# Preload\n",
    "# Загрузка токенизатора и модели RuBERT\n",
    "tokenizer = BertTokenizer.from_pretrained(\"bert-base-multilingual-cased\")\n",
    "model = BertModel.from_pretrained(\"bert-base-multilingual-cased\")\n",
    "\n",
    "def calc_emb(text:str):\n",
    "    # Токенизация текста\n",
    "    inputs = tokenizer(text, return_tensors=\"pt\")\n",
    "    \n",
    "    # Передача токенизированных входных данных модели RuBERT для получения эмбеддингов\n",
    "    with torch.no_grad():\n",
    "        outputs = model(**inputs)\n",
    "    \n",
    "    # Получение эмбеддингов для текста (выходы из слоя [CLS] в BERT)\n",
    "    embeddings = outputs.last_hidden_state.mean(dim=1).squeeze()\n",
    "    # print(embeddings.shape)\n",
    "    return embeddings\n",
    "\n",
    "\n",
    "db = {}\n",
    "with open(\"./чай список.txt\") as file:\n",
    "    while line := file.readline():\n",
    "        # print(line.rstrip())\n",
    "        db[line] = calc_emb(line.rstrip())\n",
    "\n",
    "\n",
    "# print(db)\n",
    "\n",
    "########################################################################################\n",
    "# Search\n",
    "def search_bert(text:str, limit:int=5) -> list:\n",
    "    result_dict = {}\n",
    "    emb = calc_emb(text)\n",
    "    for line in db:\n",
    "        result_dict[line] = distance.cosine(calc_emb(line), emb)\n",
    "    sorted_result_dict = sorted(result_dict.items(), key=lambda x:x[1], reverse=True)\n",
    "    return sorted_result_dict[:limit]\n",
    "\n",
    "\n",
    "print(search_bert(\"чай чёреный\"))"
   ]
  },
  {
   "cell_type": "code",
   "execution_count": 8,
   "id": "b9ed657a-5ed6-4bb5-945e-2af9c1d1a8e0",
   "metadata": {},
   "outputs": [
    {
     "name": "stdout",
     "output_type": "stream",
     "text": [
      "[('чай травяной ahmad tea грейпфрут гуарана\\n', 0.37894300182027396), ('чай зелёный ahmad tea без кофеина\\n', 0.3578230607383074), ('чай чёрный ahmad tea кардамон\\n', 0.353323167249037), ('чай чёрный lipton бергамот РУССКИЙ\\n', 0.3477679632419224), ('чай травяной milford гуарана каркаде\\n', 0.34192577688571724)]\n"
     ]
    }
   ],
   "source": [
    "print(search_bert(\"чай чёреный пряный май\"))"
   ]
  },
  {
   "cell_type": "code",
   "execution_count": 9,
   "id": "b323816d-9ae5-4dea-a1e7-5176e1b9791a",
   "metadata": {},
   "outputs": [
    {
     "name": "stdout",
     "output_type": "stream",
     "text": [
      "[('чай зелёный ahmad tea без кофеина\\n', 0.422605158936302), ('чай травяной ahmad tea грейпфрут гуарана\\n', 0.3970274387581778), ('чай травяной ahmad tea ромашка мёд лаванда\\n', 0.3887809239239096), ('чай фруктовый milford клубника малина\\n', 0.3880194885633429), ('чай травяной milford 12 трав\\n', 0.3818316031580169)]\n"
     ]
    }
   ],
   "source": [
    "print(search_bert(\"чай чёреный майский\"))"
   ]
  },
  {
   "cell_type": "code",
   "execution_count": null,
   "id": "54773d9f-a6a2-493a-8220-8063d97f311a",
   "metadata": {},
   "outputs": [],
   "source": []
  }
 ],
 "metadata": {
  "kernelspec": {
   "display_name": "Python 3 (ipykernel)",
   "language": "python",
   "name": "python3"
  },
  "language_info": {
   "codemirror_mode": {
    "name": "ipython",
    "version": 3
   },
   "file_extension": ".py",
   "mimetype": "text/x-python",
   "name": "python",
   "nbconvert_exporter": "python",
   "pygments_lexer": "ipython3",
   "version": "3.11.7"
  }
 },
 "nbformat": 4,
 "nbformat_minor": 5
}
